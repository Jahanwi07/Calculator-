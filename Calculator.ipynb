{
 "cells": [
  {
   "cell_type": "markdown",
   "id": "6b941013",
   "metadata": {},
   "source": [
    "# Calculator"
   ]
  },
  {
   "cell_type": "code",
   "execution_count": 5,
   "id": "1d46e720",
   "metadata": {},
   "outputs": [],
   "source": [
    "#This function helps in division of two numbers.\n",
    "def divide(x,y):\n",
    "    return x/y"
   ]
  },
  {
   "cell_type": "code",
   "execution_count": 15,
   "id": "0f84242e",
   "metadata": {},
   "outputs": [],
   "source": [
    "#This function helps in multiplication of two numbers.\n",
    "def multiply(x,y):\n",
    "    return x*y"
   ]
  },
  {
   "cell_type": "code",
   "execution_count": 4,
   "id": "a1cd6763",
   "metadata": {},
   "outputs": [],
   "source": [
    "#This function helps in addition of two numbers.\n",
    "def add(x,y):\n",
    "    return x+y"
   ]
  },
  {
   "cell_type": "code",
   "execution_count": 7,
   "id": "22f3035c",
   "metadata": {},
   "outputs": [],
   "source": [
    "#This function helps in substract of two numbers.\n",
    "def substract(x,y):\n",
    "    return x-y"
   ]
  },
  {
   "cell_type": "code",
   "execution_count": 10,
   "id": "0e93f511",
   "metadata": {},
   "outputs": [
    {
     "name": "stdout",
     "output_type": "stream",
     "text": [
      "Seclect your preferred operation.\n",
      "1.Divide\n",
      "2.Multiply\n",
      "3.Add\n",
      "4.Substract\n"
     ]
    }
   ],
   "source": [
    "print(\"Seclect your preferred operation.\")\n",
    "print(\"1.Divide\")\n",
    "print(\"2.Multiply\")\n",
    "print(\"3.Add\")\n",
    "print(\"4.Substract\")\n"
   ]
  },
  {
   "cell_type": "code",
   "execution_count": null,
   "id": "ddbd4e58",
   "metadata": {},
   "outputs": [
    {
     "name": "stdout",
     "output_type": "stream",
     "text": [
      "Enter choice(1/2/3/4):2\n",
      "Enter first number: 56\n",
      "Enter second number: 56\n",
      "56.0 * 56.0 = 3136.0\n",
      "Want to do next calculation? (yes/no):yes\n"
     ]
    }
   ],
   "source": [
    "while True:\n",
    "    #Take input from user\n",
    "    choice = input(\"Enter choice(1/2/3/4):\")\n",
    "    if choice in('1','2','3','4'):\n",
    "            try:\n",
    "                num1 = float(input(\"Enter first number: \"))\n",
    "                num2 = float(input(\"Enter second number: \"))\n",
    "            except ValueError:\n",
    "                print(\"Invalid input. Please enter a number.\")\n",
    "                continue\n",
    "                \n",
    "            if choice == '1':\n",
    "                print(num1, '/', num2, '=', divide(num1,num2))\n",
    "                \n",
    "            elif choice == '2':\n",
    "                print(num1, '*', num2, '=', multiply(num1,num2))\n",
    "                \n",
    "            elif choice == '3':\n",
    "                print(num1, '+', num2, '=', add(num1,num2)) \n",
    "                \n",
    "            elif choice == '4':\n",
    "                print(num1, '-', num2, '=', substract(num1,num2))\n",
    "                \n",
    "            next_calculation = input(\"Want to do next calculation? (yes/no):\")\n",
    "            if next_calculation == \"no\":\n",
    "                break\n",
    "    else:\n",
    "            print(\"Invalid Input\")\n",
    "                \n",
    "                    \n",
    "                "
   ]
  },
  {
   "cell_type": "code",
   "execution_count": null,
   "id": "3b43d25a",
   "metadata": {},
   "outputs": [],
   "source": []
  }
 ],
 "metadata": {
  "kernelspec": {
   "display_name": "Python 3 (ipykernel)",
   "language": "python",
   "name": "python3"
  },
  "language_info": {
   "codemirror_mode": {
    "name": "ipython",
    "version": 3
   },
   "file_extension": ".py",
   "mimetype": "text/x-python",
   "name": "python",
   "nbconvert_exporter": "python",
   "pygments_lexer": "ipython3",
   "version": "3.9.13"
  }
 },
 "nbformat": 4,
 "nbformat_minor": 5
}
